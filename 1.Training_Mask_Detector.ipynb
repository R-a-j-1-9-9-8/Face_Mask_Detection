{
 "cells": [
  {
   "cell_type": "code",
   "execution_count": 1,
   "metadata": {},
   "outputs": [],
   "source": [
    "#Importing the necessary libraries\n",
    "from tensorflow.keras.preprocessing.image import ImageDataGenerator\n",
    "from tensorflow.keras.applications import MobileNetV2\n",
    "from tensorflow.keras.layers import AveragePooling2D\n",
    "from tensorflow.keras.layers import Dropout\n",
    "from tensorflow.keras.layers import Flatten\n",
    "from tensorflow.keras.layers import Dense\n",
    "from tensorflow.keras.layers import Input\n",
    "from tensorflow.keras.models import Model\n",
    "from tensorflow.keras.optimizers import Adam\n",
    "from tensorflow.keras.applications.mobilenet_v2 import preprocess_input\n",
    "from tensorflow.keras.preprocessing.image import img_to_array\n",
    "from tensorflow.keras.preprocessing.image import load_img\n",
    "from tensorflow.keras.utils import to_categorical\n",
    "from sklearn.preprocessing import LabelBinarizer\n",
    "from sklearn.model_selection import train_test_split\n",
    "from sklearn.metrics import classification_report\n",
    "from imutils import paths\n",
    "import matplotlib.pyplot as plt\n",
    "import numpy as np\n",
    "import os"
   ]
  },
  {
   "cell_type": "code",
   "execution_count": 2,
   "metadata": {},
   "outputs": [],
   "source": [
    "# initialize the initial learning rate, number of epochs to train for,\n",
    "# and batch size\n",
    "INIT_LR = 1e-4\n",
    "EPOCHS = 20\n",
    "BS = 32"
   ]
  },
  {
   "cell_type": "code",
   "execution_count": 3,
   "metadata": {},
   "outputs": [
    {
     "name": "stdout",
     "output_type": "stream",
     "text": [
      "[INFO] loading images...\n"
     ]
    }
   ],
   "source": [
    "# grab the list of images in our dataset directory, then initialize\n",
    "# the list of data (i.e., images) and class images\n",
    "print(\"[INFO] loading images...\")\n",
    "imagePaths = list(paths.list_images(\"D:\\\\CET\\\\4th year\\\\Minor Project\\\\face-mask-detector\\\\dataset\"))\n",
    "data = []\n",
    "labels = []"
   ]
  },
  {
   "cell_type": "code",
   "execution_count": 4,
   "metadata": {},
   "outputs": [],
   "source": [
    "# loop over the image paths\n",
    "for imagePath in imagePaths:\n",
    "    # extract the class label from the filename\n",
    "    label = imagePath.split(os.path.sep)[-2]\n",
    "\n",
    "    # load the input image (224x224) and preprocess it\n",
    "    image = load_img(imagePath, target_size=(224, 224))\n",
    "    image = img_to_array(image)\n",
    "    image = preprocess_input(image)\n",
    "\n",
    "    # update the data and labels lists, respectively\n",
    "    data.append(image)\n",
    "    labels.append(label)\n",
    "\n",
    "# convert the data and labels to NumPy arrays\n",
    "data = np.array(data, dtype=\"float32\")\n",
    "labels = np.array(labels)\n",
    "\n",
    "# perform one-hot encoding on the labels\n",
    "lb = LabelBinarizer()\n",
    "labels = lb.fit_transform(labels)\n",
    "labels = to_categorical(labels)"
   ]
  },
  {
   "cell_type": "code",
   "execution_count": 5,
   "metadata": {},
   "outputs": [],
   "source": [
    "# partition the data into training and testing splits using 75% of\n",
    "# the data for training and the remaining 25% for testing\n",
    "(trainX, testX, trainY, testY) = train_test_split(data, labels,\n",
    "    test_size=0.20, stratify=labels, random_state=42)\n",
    "\n",
    "# construct the training image generator for data augmentation\n",
    "aug = ImageDataGenerator(\n",
    "    rotation_range=20,\n",
    "    zoom_range=0.15,\n",
    "    width_shift_range=0.2,\n",
    "    height_shift_range=0.2,\n",
    "    shear_range=0.15,\n",
    "    horizontal_flip=True,\n",
    "    fill_mode=\"nearest\")"
   ]
  },
  {
   "cell_type": "code",
   "execution_count": 6,
   "metadata": {},
   "outputs": [
    {
     "name": "stderr",
     "output_type": "stream",
     "text": [
      "C:\\Users\\rajes\\Anaconda3\\lib\\site-packages\\keras_applications\\mobilenet_v2.py:294: UserWarning: `input_shape` is undefined or non-square, or `rows` is not in [96, 128, 160, 192, 224]. Weights for input shape (224, 224) will be loaded as the default.\n",
      "  warnings.warn('`input_shape` is undefined or non-square, '\n"
     ]
    },
    {
     "name": "stdout",
     "output_type": "stream",
     "text": [
      "Downloading data from https://github.com/JonathanCMitchell/mobilenet_v2_keras/releases/download/v1.1/mobilenet_v2_weights_tf_dim_ordering_tf_kernels_1.0_224_no_top.h5\n",
      "9412608/9406464 [==============================] - 34s 4us/step\n"
     ]
    }
   ],
   "source": [
    "# load the MobileNetV2 network, ensuring the head FC layer sets are\n",
    "# left off\n",
    "baseModel = MobileNetV2(weights=\"imagenet\", include_top=False,\n",
    "    input_tensor=Input(shape=(224, 224, 3)))\n",
    "\n",
    "# construct the head of the model that will be placed on top of the\n",
    "# the base model\n",
    "headModel = baseModel.output\n",
    "headModel = AveragePooling2D(pool_size=(7, 7))(headModel)\n",
    "headModel = Flatten(name=\"flatten\")(headModel)\n",
    "headModel = Dense(128, activation=\"relu\")(headModel)\n",
    "headModel = Dropout(0.5)(headModel)\n",
    "headModel = Dense(2, activation=\"softmax\")(headModel)\n",
    "\n",
    "# place the head FC model on top of the base model (this will become\n",
    "# the actual model we will train)\n",
    "model = Model(inputs=baseModel.input, outputs=headModel)"
   ]
  },
  {
   "cell_type": "code",
   "execution_count": 7,
   "metadata": {},
   "outputs": [
    {
     "name": "stdout",
     "output_type": "stream",
     "text": [
      "[INFO] compiling model...\n"
     ]
    }
   ],
   "source": [
    "# loop over all layers in the base model and freeze them so they will\n",
    "# *not* be updated during the first training process\n",
    "for layer in baseModel.layers:\n",
    "    layer.trainable = False\n",
    "\n",
    "# compile our model\n",
    "print(\"[INFO] compiling model...\")\n",
    "opt = Adam(lr=INIT_LR, decay=INIT_LR / EPOCHS)\n",
    "model.compile(loss=\"binary_crossentropy\", optimizer=opt,\n",
    "    metrics=[\"accuracy\"])"
   ]
  },
  {
   "cell_type": "code",
   "execution_count": 8,
   "metadata": {},
   "outputs": [
    {
     "name": "stdout",
     "output_type": "stream",
     "text": [
      "[INFO] training head...\n",
      "Train for 34 steps, validate on 276 samples\n",
      "Epoch 1/20\n",
      "34/34 [==============================] - 27s 791ms/step - loss: 0.7177 - accuracy: 0.5861 - val_loss: 0.3408 - val_accuracy: 0.8984\n",
      "Epoch 2/20\n",
      "34/34 [==============================] - 17s 498ms/step - loss: 0.4229 - accuracy: 0.8081 - val_loss: 0.2065 - val_accuracy: 0.9375\n",
      "Epoch 3/20\n",
      "34/34 [==============================] - 17s 505ms/step - loss: 0.2872 - accuracy: 0.8886 - val_loss: 0.1628 - val_accuracy: 0.9453\n",
      "Epoch 4/20\n",
      "34/34 [==============================] - 17s 496ms/step - loss: 0.2503 - accuracy: 0.9120 - val_loss: 0.1362 - val_accuracy: 0.9492\n",
      "Epoch 5/20\n",
      "34/34 [==============================] - 17s 491ms/step - loss: 0.2004 - accuracy: 0.9363 - val_loss: 0.0860 - val_accuracy: 0.9805\n",
      "Epoch 6/20\n",
      "34/34 [==============================] - 17s 487ms/step - loss: 0.1824 - accuracy: 0.9354 - val_loss: 0.0909 - val_accuracy: 0.9688\n",
      "Epoch 7/20\n",
      "34/34 [==============================] - 16s 485ms/step - loss: 0.1522 - accuracy: 0.9410 - val_loss: 0.0952 - val_accuracy: 0.9648\n",
      "Epoch 8/20\n",
      "34/34 [==============================] - 17s 490ms/step - loss: 0.1478 - accuracy: 0.9391 - val_loss: 0.0670 - val_accuracy: 0.9883\n",
      "Epoch 9/20\n",
      "34/34 [==============================] - 16s 485ms/step - loss: 0.1280 - accuracy: 0.9457 - val_loss: 0.0815 - val_accuracy: 0.9648\n",
      "Epoch 10/20\n",
      "34/34 [==============================] - 17s 490ms/step - loss: 0.1268 - accuracy: 0.9494 - val_loss: 0.0703 - val_accuracy: 0.9805\n",
      "Epoch 11/20\n",
      "34/34 [==============================] - 17s 497ms/step - loss: 0.1241 - accuracy: 0.9551 - val_loss: 0.0824 - val_accuracy: 0.9688\n",
      "Epoch 12/20\n",
      "34/34 [==============================] - 17s 490ms/step - loss: 0.1060 - accuracy: 0.9635 - val_loss: 0.0629 - val_accuracy: 0.9844\n",
      "Epoch 13/20\n",
      "34/34 [==============================] - 16s 484ms/step - loss: 0.1060 - accuracy: 0.9569 - val_loss: 0.0549 - val_accuracy: 0.9844\n",
      "Epoch 14/20\n",
      "34/34 [==============================] - 18s 522ms/step - loss: 0.0953 - accuracy: 0.9672 - val_loss: 0.0751 - val_accuracy: 0.9648\n",
      "Epoch 15/20\n",
      "34/34 [==============================] - 19s 544ms/step - loss: 0.1021 - accuracy: 0.9654 - val_loss: 0.0737 - val_accuracy: 0.9727\n",
      "Epoch 16/20\n",
      "34/34 [==============================] - 19s 555ms/step - loss: 0.0864 - accuracy: 0.9672 - val_loss: 0.0649 - val_accuracy: 0.9727\n",
      "Epoch 17/20\n",
      "34/34 [==============================] - 18s 542ms/step - loss: 0.0853 - accuracy: 0.9654 - val_loss: 0.0595 - val_accuracy: 0.9844\n",
      "Epoch 18/20\n",
      "34/34 [==============================] - 18s 537ms/step - loss: 0.0882 - accuracy: 0.9682 - val_loss: 0.0594 - val_accuracy: 0.9844\n",
      "Epoch 19/20\n",
      "34/34 [==============================] - 18s 538ms/step - loss: 0.0844 - accuracy: 0.9710 - val_loss: 0.0674 - val_accuracy: 0.9727\n",
      "Epoch 20/20\n",
      "34/34 [==============================] - 18s 530ms/step - loss: 0.0945 - accuracy: 0.9588 - val_loss: 0.0624 - val_accuracy: 0.9805\n"
     ]
    }
   ],
   "source": [
    "# train the head of the network\n",
    "print(\"[INFO] training head...\")\n",
    "H = model.fit(\n",
    "    aug.flow(trainX, trainY, batch_size=BS),\n",
    "    steps_per_epoch=len(trainX) // BS,\n",
    "    validation_data=(testX, testY),\n",
    "    validation_steps=len(testX) // BS,\n",
    "    epochs=EPOCHS)"
   ]
  },
  {
   "cell_type": "code",
   "execution_count": 9,
   "metadata": {},
   "outputs": [
    {
     "name": "stdout",
     "output_type": "stream",
     "text": [
      "[INFO] evaluating network...\n"
     ]
    }
   ],
   "source": [
    "# make predictions on the testing set\n",
    "print(\"[INFO] evaluating network...\")\n",
    "predIdxs = model.predict(testX, batch_size=BS)"
   ]
  },
  {
   "cell_type": "code",
   "execution_count": 10,
   "metadata": {},
   "outputs": [
    {
     "name": "stdout",
     "output_type": "stream",
     "text": [
      "              precision    recall  f1-score   support\n",
      "\n",
      "   with_mask       0.97      1.00      0.98       138\n",
      "without_mask       1.00      0.96      0.98       138\n",
      "\n",
      "   micro avg       0.98      0.98      0.98       276\n",
      "   macro avg       0.98      0.98      0.98       276\n",
      "weighted avg       0.98      0.98      0.98       276\n",
      "\n"
     ]
    }
   ],
   "source": [
    "# for each image in the testing set we need to find the index of the\n",
    "# label with corresponding largest predicted probability\n",
    "predIdxs = np.argmax(predIdxs, axis=1)\n",
    "\n",
    "# show a nicely formatted classification report\n",
    "print(classification_report(testY.argmax(axis=1), predIdxs,\n",
    "    target_names=lb.classes_))"
   ]
  },
  {
   "cell_type": "code",
   "execution_count": 12,
   "metadata": {},
   "outputs": [
    {
     "data": {
      "text/plain": [
       "<matplotlib.legend.Legend at 0x1bc03977c50>"
      ]
     },
     "execution_count": 12,
     "metadata": {},
     "output_type": "execute_result"
    },
    {
     "data": {
      "image/png": "[encoded data removed]",
      "text/plain": [
       "<Figure size 432x288 with 1 Axes>"
      ]
     },
     "metadata": {},
     "output_type": "display_data"
    }
   ],
   "source": [
    "# plot the training loss and accuracy\n",
    "N = EPOCHS\n",
    "plt.style.use(\"ggplot\")\n",
    "plt.figure()\n",
    "plt.plot(np.arange(0, N), H.history[\"loss\"], label=\"train_loss\")\n",
    "plt.plot(np.arange(0, N), H.history[\"val_loss\"], label=\"val_loss\")\n",
    "plt.plot(np.arange(0, N), H.history[\"accuracy\"], label=\"train_acc\")\n",
    "plt.plot(np.arange(0, N), H.history[\"val_accuracy\"], label=\"val_acc\")\n",
    "plt.title(\"Training Loss and Accuracy\")\n",
    "plt.xlabel(\"Epoch #\")\n",
    "plt.ylabel(\"Loss/Accuracy\")\n",
    "plt.legend(loc=\"lower left\")\n"
   ]
  },
  {
   "cell_type": "code",
   "execution_count": null,
   "metadata": {},
   "outputs": [],
   "source": []
  }
 ],
 "metadata": {
  "kernelspec": {
   "display_name": "Python 3 (ipykernel)",
   "language": "python",
   "name": "python3"
  },
  "language_info": {
   "codemirror_mode": {
    "name": "ipython",
    "version": 3
   },
   "file_extension": ".py",
   "mimetype": "text/x-python",
   "name": "python",
   "nbconvert_exporter": "python",
   "pygments_lexer": "ipython3",
   "version": "3.8.8"
  }
 },
 "nbformat": 4,
 "nbformat_minor": 2
}
